{
 "cells": [
  {
   "cell_type": "code",
   "execution_count": 1,
   "metadata": {},
   "outputs": [],
   "source": [
    "import numpy as np\n",
    "import pandas as pd\n",
    "import matplotlib.pyplot as plt"
   ]
  },
  {
   "cell_type": "code",
   "execution_count": 7,
   "metadata": {},
   "outputs": [
    {
     "data": {
      "text/html": [
       "<div>\n",
       "<style scoped>\n",
       "    .dataframe tbody tr th:only-of-type {\n",
       "        vertical-align: middle;\n",
       "    }\n",
       "\n",
       "    .dataframe tbody tr th {\n",
       "        vertical-align: top;\n",
       "    }\n",
       "\n",
       "    .dataframe thead th {\n",
       "        text-align: right;\n",
       "    }\n",
       "</style>\n",
       "<table border=\"1\" class=\"dataframe\">\n",
       "  <thead>\n",
       "    <tr style=\"text-align: right;\">\n",
       "      <th></th>\n",
       "      <th>GDP</th>\n",
       "      <th>Schooling</th>\n",
       "      <th>Income_composition_of_resources</th>\n",
       "      <th>Adult_Mortality</th>\n",
       "      <th>Total_expenditure</th>\n",
       "    </tr>\n",
       "  </thead>\n",
       "  <tbody>\n",
       "    <tr>\n",
       "      <th>0</th>\n",
       "      <td>584.259210</td>\n",
       "      <td>10.1</td>\n",
       "      <td>0.479</td>\n",
       "      <td>263</td>\n",
       "      <td>8.16</td>\n",
       "    </tr>\n",
       "    <tr>\n",
       "      <th>1</th>\n",
       "      <td>612.696514</td>\n",
       "      <td>10.0</td>\n",
       "      <td>0.476</td>\n",
       "      <td>271</td>\n",
       "      <td>8.18</td>\n",
       "    </tr>\n",
       "    <tr>\n",
       "      <th>2</th>\n",
       "      <td>631.744976</td>\n",
       "      <td>9.9</td>\n",
       "      <td>0.470</td>\n",
       "      <td>268</td>\n",
       "      <td>8.13</td>\n",
       "    </tr>\n",
       "    <tr>\n",
       "      <th>3</th>\n",
       "      <td>669.959000</td>\n",
       "      <td>9.8</td>\n",
       "      <td>0.463</td>\n",
       "      <td>272</td>\n",
       "      <td>8.52</td>\n",
       "    </tr>\n",
       "    <tr>\n",
       "      <th>4</th>\n",
       "      <td>63.537231</td>\n",
       "      <td>9.5</td>\n",
       "      <td>0.454</td>\n",
       "      <td>275</td>\n",
       "      <td>7.87</td>\n",
       "    </tr>\n",
       "  </tbody>\n",
       "</table>\n",
       "</div>"
      ],
      "text/plain": [
       "          GDP  Schooling  Income_composition_of_resources  Adult_Mortality  \\\n",
       "0  584.259210       10.1                            0.479              263   \n",
       "1  612.696514       10.0                            0.476              271   \n",
       "2  631.744976        9.9                            0.470              268   \n",
       "3  669.959000        9.8                            0.463              272   \n",
       "4   63.537231        9.5                            0.454              275   \n",
       "\n",
       "   Total_expenditure  \n",
       "0               8.16  \n",
       "1               8.18  \n",
       "2               8.13  \n",
       "3               8.52  \n",
       "4               7.87  "
      ]
     },
     "execution_count": 7,
     "metadata": {},
     "output_type": "execute_result"
    }
   ],
   "source": [
    "df = pd.read_csv('Life_Test_Data.csv')\n",
    "X = df[['GDP', 'Schooling', 'Income_composition_of_resources', 'Adult_Mortality', 'Total_expenditure']] \n",
    "y = df['Life_expectancy']\n",
    "#df.info()\n",
    "m = len(y)\n",
    "X.fillna(X.mean()) # we use this function to fill empty cell in dataset by clculating there mean\n",
    "X = X.fillna(X.mean()) # By applying above mentioned function we will get a new dataset then we will store it in new X variable\n",
    "#X.isnull().sum() # To check if there is any cell is empty or not\n",
    "#df.head()\n",
    "X.head()"
   ]
  },
  {
   "cell_type": "code",
   "execution_count": 23,
   "metadata": {},
   "outputs": [],
   "source": [
    "def featureNormalize(X):\n",
    "    '''\n",
    "    This function takes the features as input and\n",
    "    returns the normalized values, the mean, as well \n",
    "    as the standard deviation for each feature.\n",
    "    '''\n",
    "    X_norm = (X-np.mean(X))/np.std(X) ## Scaling function.\n",
    "    mu = np.mean(X) ## Define the mean\n",
    "    sigma = np.std(X) ## Define the standard deviation.\n",
    "    return X_norm, mu, sigma ## return the values.\n",
    "\n",
    "X, mean, std = featureNormalize(X)"
   ]
  },
  {
   "cell_type": "code",
   "execution_count": 10,
   "metadata": {},
   "outputs": [
    {
     "data": {
      "text/plain": [
       "array([[65. ],\n",
       "       [59.9],\n",
       "       [59.9],\n",
       "       [59.5],\n",
       "       [59.2],\n",
       "       [58.8],\n",
       "       [58.6],\n",
       "       [58.1],\n",
       "       [57.5],\n",
       "       [57.3],\n",
       "       [57.3],\n",
       "       [57. ],\n",
       "       [56.7],\n",
       "       [56.2],\n",
       "       [55.3],\n",
       "       [54.8],\n",
       "       [77.8],\n",
       "       [77.5],\n",
       "       [77.2],\n",
       "       [76.9],\n",
       "       [76.6],\n",
       "       [76.2],\n",
       "       [76.1],\n",
       "       [75.3],\n",
       "       [75.9],\n",
       "       [74.2],\n",
       "       [73.5],\n",
       "       [73. ],\n",
       "       [72.8],\n",
       "       [73.3],\n",
       "       [73.6],\n",
       "       [72.6],\n",
       "       [75.6],\n",
       "       [75.4],\n",
       "       [75.3],\n",
       "       [75.1],\n",
       "       [74.9],\n",
       "       [74.7],\n",
       "       [74.4],\n",
       "       [74.1],\n",
       "       [73.8],\n",
       "       [73.4],\n",
       "       [72.9],\n",
       "       [72.3],\n",
       "       [71.7],\n",
       "       [71.6],\n",
       "       [71.4],\n",
       "       [71.3],\n",
       "       [52.4],\n",
       "       [51.7],\n",
       "       [51.1],\n",
       "       [56. ],\n",
       "       [51. ],\n",
       "       [49.6],\n",
       "       [49.1],\n",
       "       [48.7],\n",
       "       [48.2],\n",
       "       [47.7],\n",
       "       [47.4],\n",
       "       [47.1],\n",
       "       [46.8],\n",
       "       [46.5],\n",
       "       [45.7],\n",
       "       [45.3],\n",
       "       [76.4],\n",
       "       [76.2],\n",
       "       [76.1],\n",
       "       [75.9],\n",
       "       [75.7],\n",
       "       [75.6],\n",
       "       [75.4],\n",
       "       [75.2],\n",
       "       [75. ],\n",
       "       [74.8],\n",
       "       [74.6],\n",
       "       [74.4],\n",
       "       [74.2],\n",
       "       [74. ],\n",
       "       [73.8],\n",
       "       [73.6],\n",
       "       [76.3],\n",
       "       [76.2],\n",
       "       [76. ],\n",
       "       [75.9],\n",
       "       [75.7],\n",
       "       [75.5],\n",
       "       [75.6],\n",
       "       [75.4],\n",
       "       [74.8],\n",
       "       [75.2],\n",
       "       [74.9],\n",
       "       [74.7],\n",
       "       [74.1],\n",
       "       [74.1],\n",
       "       [74. ],\n",
       "       [74.1],\n",
       "       [74.8],\n",
       "       [74.6],\n",
       "       [74.4],\n",
       "       [74.4],\n",
       "       [73.9],\n",
       "       [73.5],\n",
       "       [73.3],\n",
       "       [73.2],\n",
       "       [73.5],\n",
       "       [72.9],\n",
       "       [73. ],\n",
       "       [73. ],\n",
       "       [72.7],\n",
       "       [72.6],\n",
       "       [72.6],\n",
       "       [72. ],\n",
       "       [82.8],\n",
       "       [82.7],\n",
       "       [82.5],\n",
       "       [82.3],\n",
       "       [82. ],\n",
       "       [81.9],\n",
       "       [81.7],\n",
       "       [81.3],\n",
       "       [81.3],\n",
       "       [81.2],\n",
       "       [81. ],\n",
       "       [86. ],\n",
       "       [83. ],\n",
       "       [79.9],\n",
       "       [79.9],\n",
       "       [79.5],\n",
       "       [81.5],\n",
       "       [81.4],\n",
       "       [81.1],\n",
       "       [88. ],\n",
       "       [88. ],\n",
       "       [84. ],\n",
       "       [82. ],\n",
       "       [84. ],\n",
       "       [81. ],\n",
       "       [79.8],\n",
       "       [79.4],\n",
       "       [79.3],\n",
       "       [78.8],\n",
       "       [78.7],\n",
       "       [78.6],\n",
       "       [78.1],\n",
       "       [72.7],\n",
       "       [72.5],\n",
       "       [72.2],\n",
       "       [71.9],\n",
       "       [71.6],\n",
       "       [71.1],\n",
       "       [78. ],\n",
       "       [73. ],\n",
       "       [73. ],\n",
       "       [69.2],\n",
       "       [68.4],\n",
       "       [68.4],\n",
       "       [67.8],\n",
       "       [67.8],\n",
       "       [67.5],\n",
       "       [66.6],\n",
       "       [76.1],\n",
       "       [75.4],\n",
       "       [74.8],\n",
       "       [74.9],\n",
       "       [75. ],\n",
       "       [75. ],\n",
       "       [74.6],\n",
       "       [74.5],\n",
       "       [74.4],\n",
       "       [74.2],\n",
       "       [74.1],\n",
       "       [73.8],\n",
       "       [73.2],\n",
       "       [73.1],\n",
       "       [72.9],\n",
       "       [72.6],\n",
       "       [76.9],\n",
       "       [76.8],\n",
       "       [76.7],\n",
       "       [76.5],\n",
       "       [76.1],\n",
       "       [76.1],\n",
       "       [76. ],\n",
       "       [75.8],\n",
       "       [75.6],\n",
       "       [75.5],\n",
       "       [75.3],\n",
       "       [75.2],\n",
       "       [75. ],\n",
       "       [74.9],\n",
       "       [74.7],\n",
       "       [74.5],\n",
       "       [71.8],\n",
       "       [71.4],\n",
       "       [71. ],\n",
       "       [77. ],\n",
       "       [73. ],\n",
       "       [69.9],\n",
       "       [69.5]])"
      ]
     },
     "execution_count": 10,
     "metadata": {},
     "output_type": "execute_result"
    }
   ],
   "source": [
    "X = np.append(np.ones([m,1]), X, axis=1) ## Append the bias term (field containing all ones) to X.\n",
    "y = np.array(y).reshape(-1,1) ## reshape y to mx1 array\n",
    "theta = np.zeros([6,1]) ## Initialize theta (the coefficient) to a 6x1 zero vector.\n",
    "y"
   ]
  },
  {
   "cell_type": "code",
   "execution_count": 25,
   "metadata": {},
   "outputs": [
    {
     "name": "stdout",
     "output_type": "stream",
     "text": [
      "2630.0829648241206\n"
     ]
    }
   ],
   "source": [
    "# Applying Cost Function\n",
    "def computeCostMulti(X,y, theta):\n",
    "    '''\n",
    "    This function takes in the the values for \n",
    "    the training set as well as initial values \n",
    "    of theta and returns the cost(J).\n",
    "    '''\n",
    "    m = len(y) ## length of the training data\n",
    "    h = X.dot(theta) ## The hypothesis\n",
    "    J = 1/(2*m)*(np.sum((h-y)**2)) ## Implementing the cost function\n",
    "    return J\n",
    "\n",
    "cost = computeCostMulti(X,y,theta) ## Call the function\n",
    "print(cost)"
   ]
  },
  {
   "cell_type": "code",
   "execution_count": 26,
   "metadata": {},
   "outputs": [],
   "source": [
    "# Applying Gradient Descent Algorithm\n",
    "def gradientDescentMulti(X, y, theta, alpha, iter):\n",
    "    '''\n",
    "    This function takes in the values of the training set, \n",
    "    as well the intial theta values(coefficients), the \n",
    "    learning rate, and the number of iterations. The output \n",
    "    will be the a new set of coefficeients(theta), optimized \n",
    "    for making predictions, as well as the array of the cost \n",
    "    as it depreciates on each iteration.\n",
    "    '''\n",
    "    J_history = [] ## Array for storing the cost values on each iteration.\n",
    "    m = len(y) ## Length of the training set\n",
    "    for i in range(iter): ## Loop for 400 iterations\n",
    "        h = X.dot(theta) ## The hypothesis\n",
    "        theta = theta - ((alpha/m)*(X.T.dot(h-y))) ## Grad.desc.func.\n",
    "        J_history.append(computeCostMulti(X, y, theta)) ## Append the cost to the J_history array\n",
    "    return theta, J_history ## Return the final values of theta and the J_history array\n",
    "\n",
    "iter = 500 ## Initialize the iteration parameter.\n",
    "alpha = 0.03 ## Initialize the learning rate."
   ]
  },
  {
   "cell_type": "code",
   "execution_count": 27,
   "metadata": {},
   "outputs": [
    {
     "name": "stdout",
     "output_type": "stream",
     "text": [
      "[[ 7.19688267e+01]\n",
      " [ 1.49610284e+00]\n",
      " [ 2.03186107e+00]\n",
      " [ 4.89013296e-01]\n",
      " [-5.24700400e+00]\n",
      " [ 6.08698503e-02]]\n"
     ]
    }
   ],
   "source": [
    "new_theta, J_history = gradientDescentMulti(X, y, theta, alpha, iter)\n",
    "print (new_theta)"
   ]
  },
  {
   "cell_type": "code",
   "execution_count": 28,
   "metadata": {},
   "outputs": [
    {
     "name": "stdout",
     "output_type": "stream",
     "text": [
      "11.386109020207401\n"
     ]
    }
   ],
   "source": [
    "new_cost = computeCostMulti(X,y,new_theta) ## We call the function again, but use the new coefficients.\n",
    "print(new_cost)"
   ]
  },
  {
   "cell_type": "code",
   "execution_count": 29,
   "metadata": {},
   "outputs": [
    {
     "data": {
      "text/plain": [
       "Text(0.5, 1.0, 'Minimizing Cost Using Gradient Descent')"
      ]
     },
     "execution_count": 29,
     "metadata": {},
     "output_type": "execute_result"
    },
    {
     "data": {
      "image/png": "[encoded data removed]",
      "text/plain": [
       "<Figure size 432x288 with 1 Axes>"
      ]
     },
     "metadata": {
      "needs_background": "light"
     },
     "output_type": "display_data"
    }
   ],
   "source": [
    "# Optional part\n",
    "plt.plot(J_history)\n",
    "plt.ylabel('Life_expectancy')\n",
    "plt.xlabel('Number of Iterations')\n",
    "plt.title('Minimizing Cost Using Gradient Descent')"
   ]
  },
  {
   "cell_type": "code",
   "execution_count": 30,
   "metadata": {},
   "outputs": [
    {
     "data": {
      "image/png": "[encoded data removed]",
      "text/plain": [
       "<Figure size 432x288 with 1 Axes>"
      ]
     },
     "metadata": {
      "needs_background": "light"
     },
     "output_type": "display_data"
    }
   ],
   "source": [
    "plt.plot(J_history)\n",
    "plt.ylabel('CO2')\n",
    "plt.xlabel('Number of Iterations')\n",
    "plt.title('Minimizing Cost Using Gradient Descent')\n",
    "theta_1, J_history_1 = gradientDescentMulti(X, y, theta, 0.3, 50)\n",
    "theta_2, J_history_2 = gradientDescentMulti(X, y, theta, 0.1, 50)\n",
    "theta_3, J_history_3 = gradientDescentMulti(X, y, theta, 0.03, 50)\n",
    "theta_4, J_history_4 = gradientDescentMulti(X, y, theta, 0.01, 50)\n",
    "theta_5, J_history_5 = gradientDescentMulti(X, y, theta, 0.003, 50)\n",
    "theta_6, J_history_6 = gradientDescentMulti(X, y, theta, 0.001, 50)"
   ]
  },
  {
   "cell_type": "code",
   "execution_count": 31,
   "metadata": {},
   "outputs": [
    {
     "data": {
      "text/plain": [
       "<matplotlib.legend.Legend at 0x20bfcb0d3a0>"
      ]
     },
     "execution_count": 31,
     "metadata": {},
     "output_type": "execute_result"
    },
    {
     "data": {
      "image/png": "[encoded data removed]",
      "text/plain": [
       "<Figure size 432x288 with 1 Axes>"
      ]
     },
     "metadata": {
      "needs_background": "light"
     },
     "output_type": "display_data"
    }
   ],
   "source": [
    "plt.plot(J_history_1, label='0.3')\n",
    "plt.plot(J_history_2, label='0.1')\n",
    "plt.plot(J_history_3, label='0.03')\n",
    "plt.plot(J_history_4, label='0.01')\n",
    "plt.plot(J_history_5, label='0.003')\n",
    "plt.plot(J_history_6, label='0.001')\n",
    "plt.title('Testing Different Learning Rates')\n",
    "plt.xlabel('Number of Iterations')\n",
    "plt.ylabel('Cost J')\n",
    "plt.legend(bbox_to_anchor=(1.05, 1.0))"
   ]
  },
  {
   "cell_type": "code",
   "execution_count": 32,
   "metadata": {},
   "outputs": [
    {
     "name": "stdout",
     "output_type": "stream",
     "text": [
      "[[ 1.         -0.58063794 -0.12948515 -1.17240218 -0.31150446  3.14838903]]\n"
     ]
    }
   ],
   "source": [
    "# Perdict Function\n",
    "X = np.array([1000, 12, 0.456, 100, 12.450])\n",
    "X = (X-mean)/std\n",
    "X = np.append(1, X)\n",
    "X = np.reshape(X, (1,6))\n",
    "print(X)"
   ]
  },
  {
   "cell_type": "code",
   "execution_count": 15,
   "metadata": {},
   "outputs": [
    {
     "name": "stdout",
     "output_type": "stream",
     "text": [
      "[[72.08982366]]\n"
     ]
    }
   ],
   "source": [
    "# Testing our algorithm by making some perdiction\n",
    "def prediction(X, theta):\n",
    "    '''\n",
    "    This function takes in the features of the cars \n",
    "    as well as the coefficients, and returns the \n",
    "    predicted co2 emission.\n",
    "    '''\n",
    "    return np.dot(X, theta)\n",
    "\n",
    "pred = prediction(X, new_theta)\n",
    "print(pred)"
   ]
  },
  {
   "cell_type": "code",
   "execution_count": null,
   "metadata": {},
   "outputs": [],
   "source": []
  },
  {
   "cell_type": "code",
   "execution_count": null,
   "metadata": {},
   "outputs": [],
   "source": []
  }
 ],
 "metadata": {
  "kernelspec": {
   "display_name": "Python 3",
   "language": "python",
   "name": "python3"
  },
  "language_info": {
   "codemirror_mode": {
    "name": "ipython",
    "version": 3
   },
   "file_extension": ".py",
   "mimetype": "text/x-python",
   "name": "python",
   "nbconvert_exporter": "python",
   "pygments_lexer": "ipython3",
   "version": "3.8.5"
  }
 },
 "nbformat": 4,
 "nbformat_minor": 4
}
